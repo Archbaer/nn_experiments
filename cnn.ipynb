{
 "cells": [
  {
   "cell_type": "markdown",
   "metadata": {
    "id": "3DR-eO17geWu"
   },
   "source": [
    "# Convolutional Neural Network"
   ]
  },
  {
   "cell_type": "markdown",
   "metadata": {
    "id": "EMefrVPCg-60"
   },
   "source": [
    "### Importing the libraries"
   ]
  },
  {
   "cell_type": "code",
   "execution_count": 1,
   "metadata": {},
   "outputs": [],
   "source": [
    "import scipy"
   ]
  },
  {
   "cell_type": "code",
   "execution_count": 2,
   "metadata": {
    "executionInfo": {
     "elapsed": 4097,
     "status": "ok",
     "timestamp": 1727869696217,
     "user": {
      "displayName": "Hadelin de Ponteves",
      "userId": "15047218817161520419"
     },
     "user_tz": -240
    },
    "id": "sCV30xyVhFbE"
   },
   "outputs": [],
   "source": [
    "import tensorflow as tf\n",
    "from tensorflow.keras.preprocessing.image import ImageDataGenerator\n",
    "from tensorflow.keras.preprocessing.image import load_img"
   ]
  },
  {
   "cell_type": "code",
   "execution_count": 3,
   "metadata": {
    "colab": {
     "base_uri": "https://localhost:8080/",
     "height": 35
    },
    "executionInfo": {
     "elapsed": 612,
     "status": "ok",
     "timestamp": 1727869699295,
     "user": {
      "displayName": "Hadelin de Ponteves",
      "userId": "15047218817161520419"
     },
     "user_tz": -240
    },
    "id": "FIleuCAjoFD8",
    "outputId": "9c409700-4a44-4ac5-b45a-374e448511a6"
   },
   "outputs": [
    {
     "data": {
      "text/plain": [
       "'2.13.0'"
      ]
     },
     "execution_count": 3,
     "metadata": {},
     "output_type": "execute_result"
    }
   ],
   "source": [
    "tf.__version__"
   ]
  },
  {
   "cell_type": "markdown",
   "metadata": {
    "id": "oxQxCBWyoGPE"
   },
   "source": [
    "## Part 1 - Data Preprocessing"
   ]
  },
  {
   "cell_type": "markdown",
   "metadata": {
    "id": "MvE-heJNo3GG"
   },
   "source": [
    "### Preprocessing the Training set"
   ]
  },
  {
   "cell_type": "code",
   "execution_count": 4,
   "metadata": {
    "colab": {
     "base_uri": "https://localhost:8080/"
    },
    "executionInfo": {
     "elapsed": 404,
     "status": "ok",
     "timestamp": 1727869709542,
     "user": {
      "displayName": "Hadelin de Ponteves",
      "userId": "15047218817161520419"
     },
     "user_tz": -240
    },
    "id": "0koUcJMJpEBD",
    "outputId": "12d2b27d-22f4-4af3-833f-5ca0cd00336c"
   },
   "outputs": [
    {
     "name": "stdout",
     "output_type": "stream",
     "text": [
      "Found 8000 images belonging to 2 classes.\n"
     ]
    }
   ],
   "source": [
    "train_datagen = ImageDataGenerator(rescale = 1./255,\n",
    "                                   shear_range = 0.2,\n",
    "                                   zoom_range = 0.2,\n",
    "                                   horizontal_flip = True)\n",
    "training_set = train_datagen.flow_from_directory('dataset/training_set',\n",
    "                                                 target_size = (64, 64),\n",
    "                                                 batch_size = 32,\n",
    "                                                 class_mode = 'binary')"
   ]
  },
  {
   "cell_type": "markdown",
   "metadata": {
    "id": "mrCMmGw9pHys"
   },
   "source": [
    "### Preprocessing the Test set"
   ]
  },
  {
   "cell_type": "code",
   "execution_count": 5,
   "metadata": {
    "colab": {
     "base_uri": "https://localhost:8080/"
    },
    "executionInfo": {
     "elapsed": 432,
     "status": "ok",
     "timestamp": 1727869749266,
     "user": {
      "displayName": "Hadelin de Ponteves",
      "userId": "15047218817161520419"
     },
     "user_tz": -240
    },
    "id": "SH4WzfOhpKc3",
    "outputId": "eefdf71b-6707-4ad0-99db-04603d820197"
   },
   "outputs": [
    {
     "name": "stdout",
     "output_type": "stream",
     "text": [
      "Found 2000 images belonging to 2 classes.\n"
     ]
    }
   ],
   "source": [
    "test_datagen = ImageDataGenerator(rescale = 1./255)\n",
    "test_set = test_datagen.flow_from_directory('dataset/test_set',\n",
    "                                            target_size = (64, 64),\n",
    "                                            batch_size = 32,\n",
    "                                            class_mode = 'binary')"
   ]
  },
  {
   "cell_type": "markdown",
   "metadata": {
    "id": "af8O4l90gk7B"
   },
   "source": [
    "## Part 2 - Building the CNN"
   ]
  },
  {
   "cell_type": "markdown",
   "metadata": {
    "id": "ces1gXY2lmoX"
   },
   "source": [
    "### Initialising the CNN"
   ]
  },
  {
   "cell_type": "code",
   "execution_count": 6,
   "metadata": {
    "executionInfo": {
     "elapsed": 470,
     "status": "ok",
     "timestamp": 1727869817668,
     "user": {
      "displayName": "Hadelin de Ponteves",
      "userId": "15047218817161520419"
     },
     "user_tz": -240
    },
    "id": "SAUt4UMPlhLS"
   },
   "outputs": [],
   "source": [
    "cnn = tf.keras.models.Sequential()"
   ]
  },
  {
   "cell_type": "markdown",
   "metadata": {
    "id": "u5YJj_XMl5LF"
   },
   "source": [
    "### Step 1 - Convolution"
   ]
  },
  {
   "cell_type": "code",
   "execution_count": 7,
   "metadata": {
    "colab": {
     "base_uri": "https://localhost:8080/"
    },
    "executionInfo": {
     "elapsed": 415,
     "status": "ok",
     "timestamp": 1727869820333,
     "user": {
      "displayName": "Hadelin de Ponteves",
      "userId": "15047218817161520419"
     },
     "user_tz": -240
    },
    "id": "XPzPrMckl-hV",
    "outputId": "329e2f0a-ec6c-4b72-c6ad-000f7ba7cda6"
   },
   "outputs": [],
   "source": [
    "cnn.add(tf.keras.layers.Conv2D(filters=32, kernel_size=3, activation='relu', input_shape=[64, 64, 3]))"
   ]
  },
  {
   "cell_type": "markdown",
   "metadata": {
    "id": "tf87FpvxmNOJ"
   },
   "source": [
    "### Step 2 - Pooling"
   ]
  },
  {
   "cell_type": "code",
   "execution_count": 8,
   "metadata": {
    "executionInfo": {
     "elapsed": 637,
     "status": "ok",
     "timestamp": 1727869823557,
     "user": {
      "displayName": "Hadelin de Ponteves",
      "userId": "15047218817161520419"
     },
     "user_tz": -240
    },
    "id": "ncpqPl69mOac"
   },
   "outputs": [],
   "source": [
    "cnn.add(tf.keras.layers.MaxPool2D(pool_size=2, strides=2))"
   ]
  },
  {
   "cell_type": "markdown",
   "metadata": {
    "id": "xaTOgD8rm4mU"
   },
   "source": [
    "### Adding a second convolutional layer"
   ]
  },
  {
   "cell_type": "code",
   "execution_count": 9,
   "metadata": {
    "executionInfo": {
     "elapsed": 406,
     "status": "ok",
     "timestamp": 1727869826266,
     "user": {
      "displayName": "Hadelin de Ponteves",
      "userId": "15047218817161520419"
     },
     "user_tz": -240
    },
    "id": "i_-FZjn_m8gk"
   },
   "outputs": [],
   "source": [
    "cnn.add(tf.keras.layers.Conv2D(filters=32, kernel_size=3, activation='relu'))\n",
    "cnn.add(tf.keras.layers.MaxPool2D(pool_size=2, strides=2))"
   ]
  },
  {
   "cell_type": "markdown",
   "metadata": {
    "id": "tmiEuvTunKfk"
   },
   "source": [
    "### Step 3 - Flattening"
   ]
  },
  {
   "cell_type": "code",
   "execution_count": 10,
   "metadata": {
    "executionInfo": {
     "elapsed": 617,
     "status": "ok",
     "timestamp": 1727869828932,
     "user": {
      "displayName": "Hadelin de Ponteves",
      "userId": "15047218817161520419"
     },
     "user_tz": -240
    },
    "id": "6AZeOGCvnNZn"
   },
   "outputs": [],
   "source": [
    "cnn.add(tf.keras.layers.Flatten())"
   ]
  },
  {
   "cell_type": "markdown",
   "metadata": {
    "id": "dAoSECOm203v"
   },
   "source": [
    "### Step 4 - Full Connection"
   ]
  },
  {
   "cell_type": "code",
   "execution_count": 11,
   "metadata": {
    "executionInfo": {
     "elapsed": 384,
     "status": "ok",
     "timestamp": 1727869831487,
     "user": {
      "displayName": "Hadelin de Ponteves",
      "userId": "15047218817161520419"
     },
     "user_tz": -240
    },
    "id": "8GtmUlLd26Nq"
   },
   "outputs": [],
   "source": [
    "cnn.add(tf.keras.layers.Dense(units=128, activation='relu'))"
   ]
  },
  {
   "cell_type": "markdown",
   "metadata": {
    "id": "yTldFvbX28Na"
   },
   "source": [
    "### Step 5 - Output Layer"
   ]
  },
  {
   "cell_type": "code",
   "execution_count": 12,
   "metadata": {
    "executionInfo": {
     "elapsed": 433,
     "status": "ok",
     "timestamp": 1727870028191,
     "user": {
      "displayName": "Hadelin de Ponteves",
      "userId": "15047218817161520419"
     },
     "user_tz": -240
    },
    "id": "1p_Zj1Mc3Ko_"
   },
   "outputs": [],
   "source": [
    "cnn.add(tf.keras.layers.Dense(units=1, activation='sigmoid'))"
   ]
  },
  {
   "cell_type": "markdown",
   "metadata": {
    "id": "D6XkI90snSDl"
   },
   "source": [
    "## Part 3 - Training the CNN"
   ]
  },
  {
   "cell_type": "markdown",
   "metadata": {
    "id": "vfrFQACEnc6i"
   },
   "source": [
    "### Compiling the CNN"
   ]
  },
  {
   "cell_type": "code",
   "execution_count": 13,
   "metadata": {
    "executionInfo": {
     "elapsed": 416,
     "status": "ok",
     "timestamp": 1727870049309,
     "user": {
      "displayName": "Hadelin de Ponteves",
      "userId": "15047218817161520419"
     },
     "user_tz": -240
    },
    "id": "NALksrNQpUlJ"
   },
   "outputs": [],
   "source": [
    "cnn.compile(optimizer = 'adam', loss = 'binary_crossentropy', metrics = ['accuracy'])"
   ]
  },
  {
   "cell_type": "markdown",
   "metadata": {
    "id": "ehS-v3MIpX2h"
   },
   "source": [
    "### Training the CNN on the Training set and evaluating it on the Test set"
   ]
  },
  {
   "cell_type": "code",
   "execution_count": 14,
   "metadata": {
    "colab": {
     "base_uri": "https://localhost:8080/"
    },
    "executionInfo": {
     "elapsed": 53294,
     "status": "ok",
     "timestamp": 1727870127564,
     "user": {
      "displayName": "Hadelin de Ponteves",
      "userId": "15047218817161520419"
     },
     "user_tz": -240
    },
    "id": "XUj1W4PJptta",
    "outputId": "6af733bf-672f-4229-efe2-f0847b4118e7"
   },
   "outputs": [
    {
     "name": "stdout",
     "output_type": "stream",
     "text": [
      "Epoch 1/50\n",
      "250/250 [==============================] - 12s 45ms/step - loss: 0.6717 - accuracy: 0.5791 - val_loss: 0.6345 - val_accuracy: 0.6440\n",
      "Epoch 2/50\n",
      "250/250 [==============================] - 11s 45ms/step - loss: 0.6007 - accuracy: 0.6777 - val_loss: 0.5604 - val_accuracy: 0.7230\n",
      "Epoch 3/50\n",
      "250/250 [==============================] - 11s 45ms/step - loss: 0.5621 - accuracy: 0.7103 - val_loss: 0.5574 - val_accuracy: 0.7100\n",
      "Epoch 4/50\n",
      "250/250 [==============================] - 11s 45ms/step - loss: 0.5375 - accuracy: 0.7246 - val_loss: 0.5090 - val_accuracy: 0.7565\n",
      "Epoch 5/50\n",
      "250/250 [==============================] - 11s 45ms/step - loss: 0.5011 - accuracy: 0.7573 - val_loss: 0.4913 - val_accuracy: 0.7655\n",
      "Epoch 6/50\n",
      "250/250 [==============================] - 11s 44ms/step - loss: 0.4871 - accuracy: 0.7599 - val_loss: 0.4732 - val_accuracy: 0.7750\n",
      "Epoch 7/50\n",
      "250/250 [==============================] - 11s 45ms/step - loss: 0.4661 - accuracy: 0.7755 - val_loss: 0.4767 - val_accuracy: 0.7810\n",
      "Epoch 8/50\n",
      "250/250 [==============================] - 11s 45ms/step - loss: 0.4562 - accuracy: 0.7794 - val_loss: 0.4776 - val_accuracy: 0.7870\n",
      "Epoch 9/50\n",
      "250/250 [==============================] - 11s 45ms/step - loss: 0.4412 - accuracy: 0.7937 - val_loss: 0.4622 - val_accuracy: 0.7890\n",
      "Epoch 10/50\n",
      "250/250 [==============================] - 11s 45ms/step - loss: 0.4345 - accuracy: 0.7960 - val_loss: 0.4798 - val_accuracy: 0.7875\n",
      "Epoch 11/50\n",
      "250/250 [==============================] - 11s 45ms/step - loss: 0.4208 - accuracy: 0.8023 - val_loss: 0.4698 - val_accuracy: 0.7835\n",
      "Epoch 12/50\n",
      "250/250 [==============================] - 11s 46ms/step - loss: 0.4092 - accuracy: 0.8125 - val_loss: 0.4994 - val_accuracy: 0.7790\n",
      "Epoch 13/50\n",
      "250/250 [==============================] - 11s 45ms/step - loss: 0.4105 - accuracy: 0.8079 - val_loss: 0.4611 - val_accuracy: 0.8020\n",
      "Epoch 14/50\n",
      "250/250 [==============================] - 11s 45ms/step - loss: 0.4041 - accuracy: 0.8141 - val_loss: 0.4702 - val_accuracy: 0.7810\n",
      "Epoch 15/50\n",
      "250/250 [==============================] - 11s 45ms/step - loss: 0.3928 - accuracy: 0.8210 - val_loss: 0.4995 - val_accuracy: 0.7780\n",
      "Epoch 16/50\n",
      "250/250 [==============================] - 11s 45ms/step - loss: 0.3833 - accuracy: 0.8264 - val_loss: 0.4601 - val_accuracy: 0.7965\n",
      "Epoch 17/50\n",
      "250/250 [==============================] - 11s 45ms/step - loss: 0.3837 - accuracy: 0.8276 - val_loss: 0.4928 - val_accuracy: 0.7885\n",
      "Epoch 18/50\n",
      "250/250 [==============================] - 11s 45ms/step - loss: 0.3689 - accuracy: 0.8330 - val_loss: 0.4969 - val_accuracy: 0.7775\n",
      "Epoch 19/50\n",
      "250/250 [==============================] - 11s 45ms/step - loss: 0.3714 - accuracy: 0.8296 - val_loss: 0.4244 - val_accuracy: 0.8200\n",
      "Epoch 20/50\n",
      "250/250 [==============================] - 11s 45ms/step - loss: 0.3557 - accuracy: 0.8451 - val_loss: 0.4585 - val_accuracy: 0.8110\n",
      "Epoch 21/50\n",
      "250/250 [==============================] - 11s 45ms/step - loss: 0.3522 - accuracy: 0.8382 - val_loss: 0.5179 - val_accuracy: 0.7780\n",
      "Epoch 22/50\n",
      "250/250 [==============================] - 11s 44ms/step - loss: 0.3549 - accuracy: 0.8419 - val_loss: 0.4490 - val_accuracy: 0.8105\n",
      "Epoch 23/50\n",
      "250/250 [==============================] - 11s 45ms/step - loss: 0.3400 - accuracy: 0.8474 - val_loss: 0.4511 - val_accuracy: 0.8120\n",
      "Epoch 24/50\n",
      "250/250 [==============================] - 11s 45ms/step - loss: 0.3340 - accuracy: 0.8472 - val_loss: 0.4743 - val_accuracy: 0.8055\n",
      "Epoch 25/50\n",
      "250/250 [==============================] - 11s 45ms/step - loss: 0.3348 - accuracy: 0.8497 - val_loss: 0.4762 - val_accuracy: 0.8025\n",
      "Epoch 26/50\n",
      "250/250 [==============================] - 11s 45ms/step - loss: 0.3320 - accuracy: 0.8540 - val_loss: 0.4469 - val_accuracy: 0.8150\n",
      "Epoch 27/50\n",
      "250/250 [==============================] - 11s 45ms/step - loss: 0.3248 - accuracy: 0.8551 - val_loss: 0.4441 - val_accuracy: 0.8150\n",
      "Epoch 28/50\n",
      "250/250 [==============================] - 11s 45ms/step - loss: 0.3088 - accuracy: 0.8639 - val_loss: 0.4991 - val_accuracy: 0.8015\n",
      "Epoch 29/50\n",
      "250/250 [==============================] - 11s 45ms/step - loss: 0.3141 - accuracy: 0.8622 - val_loss: 0.4729 - val_accuracy: 0.8145\n",
      "Epoch 30/50\n",
      "250/250 [==============================] - 11s 46ms/step - loss: 0.3070 - accuracy: 0.8644 - val_loss: 0.4601 - val_accuracy: 0.8180\n",
      "Epoch 31/50\n",
      "250/250 [==============================] - 12s 48ms/step - loss: 0.2917 - accuracy: 0.8724 - val_loss: 0.4622 - val_accuracy: 0.8130\n",
      "Epoch 32/50\n",
      "250/250 [==============================] - 12s 50ms/step - loss: 0.2861 - accuracy: 0.8751 - val_loss: 0.5038 - val_accuracy: 0.8030\n",
      "Epoch 33/50\n",
      "250/250 [==============================] - 12s 46ms/step - loss: 0.2877 - accuracy: 0.8765 - val_loss: 0.4519 - val_accuracy: 0.8140\n",
      "Epoch 34/50\n",
      "250/250 [==============================] - 12s 46ms/step - loss: 0.2785 - accuracy: 0.8814 - val_loss: 0.5078 - val_accuracy: 0.8080\n",
      "Epoch 35/50\n",
      "250/250 [==============================] - 12s 47ms/step - loss: 0.2706 - accuracy: 0.8840 - val_loss: 0.4765 - val_accuracy: 0.8140\n",
      "Epoch 36/50\n",
      "250/250 [==============================] - 12s 47ms/step - loss: 0.2626 - accuracy: 0.8884 - val_loss: 0.4907 - val_accuracy: 0.8145\n",
      "Epoch 37/50\n",
      "250/250 [==============================] - 12s 47ms/step - loss: 0.2596 - accuracy: 0.8905 - val_loss: 0.5067 - val_accuracy: 0.8065\n",
      "Epoch 38/50\n",
      "250/250 [==============================] - 12s 47ms/step - loss: 0.2544 - accuracy: 0.8915 - val_loss: 0.5893 - val_accuracy: 0.7875\n",
      "Epoch 39/50\n",
      "250/250 [==============================] - 12s 47ms/step - loss: 0.2447 - accuracy: 0.8944 - val_loss: 0.5254 - val_accuracy: 0.8035\n",
      "Epoch 40/50\n",
      "250/250 [==============================] - 12s 47ms/step - loss: 0.2436 - accuracy: 0.8980 - val_loss: 0.5424 - val_accuracy: 0.8015\n",
      "Epoch 41/50\n",
      "250/250 [==============================] - 12s 47ms/step - loss: 0.2426 - accuracy: 0.8951 - val_loss: 0.5350 - val_accuracy: 0.8080\n",
      "Epoch 42/50\n",
      "250/250 [==============================] - 12s 47ms/step - loss: 0.2344 - accuracy: 0.8991 - val_loss: 0.6121 - val_accuracy: 0.7955\n",
      "Epoch 43/50\n",
      "250/250 [==============================] - 12s 47ms/step - loss: 0.2298 - accuracy: 0.9035 - val_loss: 0.5776 - val_accuracy: 0.8035\n",
      "Epoch 44/50\n",
      "250/250 [==============================] - 12s 47ms/step - loss: 0.2287 - accuracy: 0.9056 - val_loss: 0.5331 - val_accuracy: 0.8090\n",
      "Epoch 45/50\n",
      "250/250 [==============================] - 12s 47ms/step - loss: 0.2155 - accuracy: 0.9114 - val_loss: 0.5528 - val_accuracy: 0.8105\n",
      "Epoch 46/50\n",
      "250/250 [==============================] - 12s 47ms/step - loss: 0.2120 - accuracy: 0.9131 - val_loss: 0.5706 - val_accuracy: 0.8055\n",
      "Epoch 47/50\n",
      "250/250 [==============================] - 12s 47ms/step - loss: 0.2043 - accuracy: 0.9165 - val_loss: 0.6409 - val_accuracy: 0.7900\n",
      "Epoch 48/50\n",
      "250/250 [==============================] - 12s 47ms/step - loss: 0.1895 - accuracy: 0.9197 - val_loss: 0.5311 - val_accuracy: 0.8190\n",
      "Epoch 49/50\n",
      "250/250 [==============================] - 12s 47ms/step - loss: 0.2095 - accuracy: 0.9146 - val_loss: 0.6050 - val_accuracy: 0.7940\n",
      "Epoch 50/50\n",
      "250/250 [==============================] - 12s 47ms/step - loss: 0.1880 - accuracy: 0.9234 - val_loss: 0.6044 - val_accuracy: 0.8015\n"
     ]
    },
    {
     "data": {
      "text/plain": [
       "<keras.src.callbacks.History at 0x207779a5dc0>"
      ]
     },
     "execution_count": 14,
     "metadata": {},
     "output_type": "execute_result"
    }
   ],
   "source": [
    "cnn.fit(x = training_set, validation_data = test_set, epochs = 50)"
   ]
  },
  {
   "cell_type": "markdown",
   "metadata": {
    "id": "U3PZasO0006Z"
   },
   "source": [
    "## Part 4 - Making a single prediction"
   ]
  },
  {
   "cell_type": "code",
   "execution_count": 15,
   "metadata": {
    "colab": {
     "base_uri": "https://localhost:8080/"
    },
    "executionInfo": {
     "elapsed": 553,
     "status": "ok",
     "timestamp": 1727870175470,
     "user": {
      "displayName": "Hadelin de Ponteves",
      "userId": "15047218817161520419"
     },
     "user_tz": -240
    },
    "id": "gsSiWEJY1BPB",
    "outputId": "3a1eabe0-aa2b-48ac-cc6e-a32906dbf08e"
   },
   "outputs": [
    {
     "name": "stdout",
     "output_type": "stream",
     "text": [
      "1/1 [==============================] - 0s 40ms/step\n",
      "Raw prediction output: [[0.9999999]]\n",
      "Class indices: {'cats': 0, 'dogs': 1}\n",
      "Prediction: dog\n"
     ]
    }
   ],
   "source": [
    "import numpy as np\n",
    "from tensorflow.keras.preprocessing import image\n",
    "\n",
    "# Load and preprocess the image\n",
    "test_image = image.load_img('dataset/single_prediction/cat_or_dog_1.jpg', target_size=(64, 64))\n",
    "test_image = image.img_to_array(test_image)\n",
    "test_image = np.expand_dims(test_image, axis=0)\n",
    "test_image = test_image / 255.0  # Normalize if needed\n",
    "\n",
    "# Predict\n",
    "result = cnn.predict(test_image)\n",
    "print(\"Raw prediction output:\", result)  # Debug: Check the raw output\n",
    "\n",
    "# Check class indices\n",
    "class_indices = training_set.class_indices\n",
    "print(\"Class indices:\", class_indices)  # Debug: Ensure correct labels\n",
    "\n",
    "# Determine prediction\n",
    "if result[0][0] > 0.5:\n",
    "    prediction = 'dog'\n",
    "else:\n",
    "    prediction = 'cat'\n",
    "\n",
    "print(\"Prediction:\", prediction)"
   ]
  },
  {
   "cell_type": "code",
   "execution_count": null,
   "metadata": {},
   "outputs": [],
   "source": []
  }
 ],
 "metadata": {
  "colab": {
   "authorship_tag": "ABX9TyN2fBThgo8wJQn6Xf6V6crC",
   "provenance": []
  },
  "kernelspec": {
   "display_name": "Python 3 (ipykernel)",
   "language": "python",
   "name": "python3"
  },
  "language_info": {
   "codemirror_mode": {
    "name": "ipython",
    "version": 3
   },
   "file_extension": ".py",
   "mimetype": "text/x-python",
   "name": "python",
   "nbconvert_exporter": "python",
   "pygments_lexer": "ipython3",
   "version": "3.8.10"
  }
 },
 "nbformat": 4,
 "nbformat_minor": 4
}
