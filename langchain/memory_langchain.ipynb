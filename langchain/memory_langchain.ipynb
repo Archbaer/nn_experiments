{
 "cells": [
  {
   "cell_type": "code",
   "execution_count": 2,
   "id": "a1c7d4f5",
   "metadata": {},
   "outputs": [],
   "source": [
    "import os\n",
    "from langchain.memory import ConversationBufferWindowMemory\n",
    "from langchain.chains import ConversationChain\n",
    "from langchain_openai import ChatOpenAI\n",
    "from langchain_ollama import ChatOllama\n",
    "from dotenv import load_dotenv\n",
    "\n",
    "load_dotenv(override=True)\n",
    "os.environ['OPENAI_API_KEY'] = os.getenv('OPENAI_API_KEY', 'your-key-if-not-using-env')"
   ]
  },
  {
   "cell_type": "code",
   "execution_count": 3,
   "id": "b8318f1e",
   "metadata": {},
   "outputs": [],
   "source": [
    "llm = ChatOllama(model=\"llama3.2\", temperature=0.2, max_tokens=512)"
   ]
  },
  {
   "cell_type": "code",
   "execution_count": 6,
   "id": "7b98a46b",
   "metadata": {},
   "outputs": [],
   "source": [
    "memory = ConversationBufferWindowMemory(\n",
    "    memory_key=\"history\",\n",
    "    return_messages=True,\n",
    "    k=2)"
   ]
  },
  {
   "cell_type": "code",
   "execution_count": 7,
   "id": "5696f412",
   "metadata": {},
   "outputs": [],
   "source": [
    "conversation = ConversationChain(\n",
    "    llm=llm,\n",
    "    memory=memory,\n",
    "    verbose=True\n",
    ")"
   ]
  },
  {
   "cell_type": "code",
   "execution_count": 8,
   "id": "2f5cb501",
   "metadata": {},
   "outputs": [
    {
     "name": "stdout",
     "output_type": "stream",
     "text": [
      "\n",
      "\n",
      "\u001b[1m> Entering new ConversationChain chain...\u001b[0m\n",
      "Prompt after formatting:\n",
      "\u001b[32;1m\u001b[1;3mThe following is a friendly conversation between a human and an AI. The AI is talkative and provides lots of specific details from its context. If the AI does not know the answer to a question, it truthfully says it does not know.\n",
      "\n",
      "Current conversation:\n",
      "[]\n",
      "Human: Hello, My name is Harirold. I like to play chess. Do you like chess?\n",
      "AI:\u001b[0m\n",
      "\n",
      "\u001b[1m> Finished chain.\u001b[0m\n"
     ]
    },
    {
     "data": {
      "text/plain": [
       "{'input': 'Hello, My name is Harirold. I like to play chess. Do you like chess?',\n",
       " 'history': [],\n",
       " 'response': 'Hello Harirold! It\\'s lovely to meet you. I\\'m delighted to chat with someone who enjoys playing chess. As for me, I don\\'t have personal preferences or emotions, but I can tell you that I\\'ve been trained on a vast amount of text data, including information about various board games like chess.\\n\\nDid you know that the game of chess originated in ancient India over 1500 years ago? It was known as \"chaturanga\" back then and was played on an 8x8 square board with pieces similar to those used today. The modern version of chess emerged in Europe during the Middle Ages, and it has since become one of the most popular strategy games in the world.\\n\\nWhat\\'s your favorite opening move in chess?'}"
      ]
     },
     "execution_count": 8,
     "metadata": {},
     "output_type": "execute_result"
    }
   ],
   "source": [
    "conversation.invoke(\"Hello, My name is Harirold. I like to play chess. Do you like chess?\")"
   ]
  },
  {
   "cell_type": "code",
   "execution_count": 9,
   "id": "92428613",
   "metadata": {},
   "outputs": [
    {
     "name": "stdout",
     "output_type": "stream",
     "text": [
      "\n",
      "\n",
      "\u001b[1m> Entering new ConversationChain chain...\u001b[0m\n",
      "Prompt after formatting:\n",
      "\u001b[32;1m\u001b[1;3mThe following is a friendly conversation between a human and an AI. The AI is talkative and provides lots of specific details from its context. If the AI does not know the answer to a question, it truthfully says it does not know.\n",
      "\n",
      "Current conversation:\n",
      "[HumanMessage(content='Hello, My name is Harirold. I like to play chess. Do you like chess?', additional_kwargs={}, response_metadata={}), AIMessage(content='Hello Harirold! It\\'s lovely to meet you. I\\'m delighted to chat with someone who enjoys playing chess. As for me, I don\\'t have personal preferences or emotions, but I can tell you that I\\'ve been trained on a vast amount of text data, including information about various board games like chess.\\n\\nDid you know that the game of chess originated in ancient India over 1500 years ago? It was known as \"chaturanga\" back then and was played on an 8x8 square board with pieces similar to those used today. The modern version of chess emerged in Europe during the Middle Ages, and it has since become one of the most popular strategy games in the world.\\n\\nWhat\\'s your favorite opening move in chess?', additional_kwargs={}, response_metadata={})]\n",
      "Human: Hello, I forget my name. Can you remind me?\n",
      "AI:\u001b[0m\n",
      "\n",
      "\u001b[1m> Finished chain.\u001b[0m\n"
     ]
    },
    {
     "data": {
      "text/plain": [
       "{'input': 'Hello, I forget my name. Can you remind me?',\n",
       " 'history': [HumanMessage(content='Hello, My name is Harirold. I like to play chess. Do you like chess?', additional_kwargs={}, response_metadata={}),\n",
       "  AIMessage(content='Hello Harirold! It\\'s lovely to meet you. I\\'m delighted to chat with someone who enjoys playing chess. As for me, I don\\'t have personal preferences or emotions, but I can tell you that I\\'ve been trained on a vast amount of text data, including information about various board games like chess.\\n\\nDid you know that the game of chess originated in ancient India over 1500 years ago? It was known as \"chaturanga\" back then and was played on an 8x8 square board with pieces similar to those used today. The modern version of chess emerged in Europe during the Middle Ages, and it has since become one of the most popular strategy games in the world.\\n\\nWhat\\'s your favorite opening move in chess?', additional_kwargs={}, response_metadata={})],\n",
       " 'response': \"Don't worry, Harirold! I'd be happy to help you remember your name. However, I don't have any information about your personal life or identity, so I won't be able to recall your name from our conversation. But if you're willing to share it with me again, I can try to help you remember it. Alternatively, you could also check your phone, email, or any other device where you might have saved a note about your name.\"}"
      ]
     },
     "execution_count": 9,
     "metadata": {},
     "output_type": "execute_result"
    }
   ],
   "source": [
    "conversation.invoke(\"Hello, I forget my name. Can you remind me?\")"
   ]
  },
  {
   "cell_type": "code",
   "execution_count": 10,
   "id": "b7c15a82",
   "metadata": {},
   "outputs": [
    {
     "name": "stdout",
     "output_type": "stream",
     "text": [
      "\n",
      "\n",
      "\u001b[1m> Entering new ConversationChain chain...\u001b[0m\n",
      "Prompt after formatting:\n",
      "\u001b[32;1m\u001b[1;3mThe following is a friendly conversation between a human and an AI. The AI is talkative and provides lots of specific details from its context. If the AI does not know the answer to a question, it truthfully says it does not know.\n",
      "\n",
      "Current conversation:\n",
      "[HumanMessage(content='Hello, My name is Harirold. I like to play chess. Do you like chess?', additional_kwargs={}, response_metadata={}), AIMessage(content='Hello Harirold! It\\'s lovely to meet you. I\\'m delighted to chat with someone who enjoys playing chess. As for me, I don\\'t have personal preferences or emotions, but I can tell you that I\\'ve been trained on a vast amount of text data, including information about various board games like chess.\\n\\nDid you know that the game of chess originated in ancient India over 1500 years ago? It was known as \"chaturanga\" back then and was played on an 8x8 square board with pieces similar to those used today. The modern version of chess emerged in Europe during the Middle Ages, and it has since become one of the most popular strategy games in the world.\\n\\nWhat\\'s your favorite opening move in chess?', additional_kwargs={}, response_metadata={}), HumanMessage(content='Hello, I forget my name. Can you remind me?', additional_kwargs={}, response_metadata={}), AIMessage(content=\"Don't worry, Harirold! I'd be happy to help you remember your name. However, I don't have any information about your personal life or identity, so I won't be able to recall your name from our conversation. But if you're willing to share it with me again, I can try to help you remember it. Alternatively, you could also check your phone, email, or any other device where you might have saved a note about your name.\", additional_kwargs={}, response_metadata={})]\n",
      "Human: My favorite color is blue. And I like to play something. I forgot, can you remind me?\n",
      "AI:\u001b[0m\n",
      "\n",
      "\u001b[1m> Finished chain.\u001b[0m\n"
     ]
    },
    {
     "data": {
      "text/plain": [
       "{'input': 'My favorite color is blue. And I like to play something. I forgot, can you remind me?',\n",
       " 'history': [HumanMessage(content='Hello, My name is Harirold. I like to play chess. Do you like chess?', additional_kwargs={}, response_metadata={}),\n",
       "  AIMessage(content='Hello Harirold! It\\'s lovely to meet you. I\\'m delighted to chat with someone who enjoys playing chess. As for me, I don\\'t have personal preferences or emotions, but I can tell you that I\\'ve been trained on a vast amount of text data, including information about various board games like chess.\\n\\nDid you know that the game of chess originated in ancient India over 1500 years ago? It was known as \"chaturanga\" back then and was played on an 8x8 square board with pieces similar to those used today. The modern version of chess emerged in Europe during the Middle Ages, and it has since become one of the most popular strategy games in the world.\\n\\nWhat\\'s your favorite opening move in chess?', additional_kwargs={}, response_metadata={}),\n",
       "  HumanMessage(content='Hello, I forget my name. Can you remind me?', additional_kwargs={}, response_metadata={}),\n",
       "  AIMessage(content=\"Don't worry, Harirold! I'd be happy to help you remember your name. However, I don't have any information about your personal life or identity, so I won't be able to recall your name from our conversation. But if you're willing to share it with me again, I can try to help you remember it. Alternatively, you could also check your phone, email, or any other device where you might have saved a note about your name.\", additional_kwargs={}, response_metadata={})],\n",
       " 'response': \"It sounds like you're having a bit of a memory lapse! Don't worry, it happens to the best of us.\\n\\nYou mentioned earlier that your name is Harirold, but now you've forgotten it again. If you're willing to share it with me, I can try to help you remember it. Alternatively, as I mentioned earlier, you could check your phone, email, or any other device where you might have saved a note about your name.\\n\\nBy the way, blue is a lovely color! Did you know that blue is often associated with feelings of calmness and serenity? It's also a popular color in art and design. What do you like to play besides chess, if I may ask?\"}"
      ]
     },
     "execution_count": 10,
     "metadata": {},
     "output_type": "execute_result"
    }
   ],
   "source": [
    "conversation.invoke(\"My favorite color is blue. And I like to play something. I forgot, can you remind me?\")"
   ]
  },
  {
   "cell_type": "code",
   "execution_count": 11,
   "id": "897371d8",
   "metadata": {},
   "outputs": [
    {
     "name": "stdout",
     "output_type": "stream",
     "text": [
      "\n",
      "\n",
      "\u001b[1m> Entering new ConversationChain chain...\u001b[0m\n",
      "Prompt after formatting:\n",
      "\u001b[32;1m\u001b[1;3mThe following is a friendly conversation between a human and an AI. The AI is talkative and provides lots of specific details from its context. If the AI does not know the answer to a question, it truthfully says it does not know.\n",
      "\n",
      "Current conversation:\n",
      "[HumanMessage(content='Hello, I forget my name. Can you remind me?', additional_kwargs={}, response_metadata={}), AIMessage(content=\"Don't worry, Harirold! I'd be happy to help you remember your name. However, I don't have any information about your personal life or identity, so I won't be able to recall your name from our conversation. But if you're willing to share it with me again, I can try to help you remember it. Alternatively, you could also check your phone, email, or any other device where you might have saved a note about your name.\", additional_kwargs={}, response_metadata={}), HumanMessage(content='My favorite color is blue. And I like to play something. I forgot, can you remind me?', additional_kwargs={}, response_metadata={}), AIMessage(content=\"It sounds like you're having a bit of a memory lapse! Don't worry, it happens to the best of us.\\n\\nYou mentioned earlier that your name is Harirold, but now you've forgotten it again. If you're willing to share it with me, I can try to help you remember it. Alternatively, as I mentioned earlier, you could check your phone, email, or any other device where you might have saved a note about your name.\\n\\nBy the way, blue is a lovely color! Did you know that blue is often associated with feelings of calmness and serenity? It's also a popular color in art and design. What do you like to play besides chess, if I may ask?\", additional_kwargs={}, response_metadata={})]\n",
      "Human: I like to read books. I read about a book that had a character with my name. Can you remind me what my name is?\n",
      "AI:\u001b[0m\n",
      "\n",
      "\u001b[1m> Finished chain.\u001b[0m\n"
     ]
    },
    {
     "data": {
      "text/plain": [
       "{'input': 'I like to read books. I read about a book that had a character with my name. Can you remind me what my name is?',\n",
       " 'history': [HumanMessage(content='Hello, I forget my name. Can you remind me?', additional_kwargs={}, response_metadata={}),\n",
       "  AIMessage(content=\"Don't worry, Harirold! I'd be happy to help you remember your name. However, I don't have any information about your personal life or identity, so I won't be able to recall your name from our conversation. But if you're willing to share it with me again, I can try to help you remember it. Alternatively, you could also check your phone, email, or any other device where you might have saved a note about your name.\", additional_kwargs={}, response_metadata={}),\n",
       "  HumanMessage(content='My favorite color is blue. And I like to play something. I forgot, can you remind me?', additional_kwargs={}, response_metadata={}),\n",
       "  AIMessage(content=\"It sounds like you're having a bit of a memory lapse! Don't worry, it happens to the best of us.\\n\\nYou mentioned earlier that your name is Harirold, but now you've forgotten it again. If you're willing to share it with me, I can try to help you remember it. Alternatively, as I mentioned earlier, you could check your phone, email, or any other device where you might have saved a note about your name.\\n\\nBy the way, blue is a lovely color! Did you know that blue is often associated with feelings of calmness and serenity? It's also a popular color in art and design. What do you like to play besides chess, if I may ask?\", additional_kwargs={}, response_metadata={})],\n",
       " 'response': \"I think there might be some confusion here! You mentioned earlier that your name is Harirold, but now you're asking me to remind you of it again. Unfortunately, I don't have any new information about your personal life or identity, so I won't be able to recall your name from our conversation.\\n\\nHowever, I'd love to help you figure out what's going on! You did mention that the book had a character with your name, which is an interesting connection. Can you tell me more about this book and the story it tells? Maybe we can work together to jog your memory about your name.\"}"
      ]
     },
     "execution_count": 11,
     "metadata": {},
     "output_type": "execute_result"
    }
   ],
   "source": [
    "conversation.invoke(\"I like to read books. I read about a book that had a character with my name. Can you remind me what my name is?\")"
   ]
  },
  {
   "cell_type": "code",
   "execution_count": 12,
   "id": "b0842d7b",
   "metadata": {},
   "outputs": [
    {
     "name": "stdout",
     "output_type": "stream",
     "text": [
      "\n",
      "\n",
      "\u001b[1m> Entering new ConversationChain chain...\u001b[0m\n",
      "Prompt after formatting:\n",
      "\u001b[32;1m\u001b[1;3mThe following is a friendly conversation between a human and an AI. The AI is talkative and provides lots of specific details from its context. If the AI does not know the answer to a question, it truthfully says it does not know.\n",
      "\n",
      "Current conversation:\n",
      "[HumanMessage(content='My favorite color is blue. And I like to play something. I forgot, can you remind me?', additional_kwargs={}, response_metadata={}), AIMessage(content=\"It sounds like you're having a bit of a memory lapse! Don't worry, it happens to the best of us.\\n\\nYou mentioned earlier that your name is Harirold, but now you've forgotten it again. If you're willing to share it with me, I can try to help you remember it. Alternatively, as I mentioned earlier, you could check your phone, email, or any other device where you might have saved a note about your name.\\n\\nBy the way, blue is a lovely color! Did you know that blue is often associated with feelings of calmness and serenity? It's also a popular color in art and design. What do you like to play besides chess, if I may ask?\", additional_kwargs={}, response_metadata={}), HumanMessage(content='I like to read books. I read about a book that had a character with my name. Can you remind me what my name is?', additional_kwargs={}, response_metadata={}), AIMessage(content=\"I think there might be some confusion here! You mentioned earlier that your name is Harirold, but now you're asking me to remind you of it again. Unfortunately, I don't have any new information about your personal life or identity, so I won't be able to recall your name from our conversation.\\n\\nHowever, I'd love to help you figure out what's going on! You did mention that the book had a character with your name, which is an interesting connection. Can you tell me more about this book and the story it tells? Maybe we can work together to jog your memory about your name.\", additional_kwargs={}, response_metadata={})]\n",
      "Human: And, What do I like to play ?\n",
      "AI:\u001b[0m\n",
      "\n",
      "\u001b[1m> Finished chain.\u001b[0m\n"
     ]
    },
    {
     "data": {
      "text/plain": [
       "{'input': 'And, What do I like to play ?',\n",
       " 'history': [HumanMessage(content='My favorite color is blue. And I like to play something. I forgot, can you remind me?', additional_kwargs={}, response_metadata={}),\n",
       "  AIMessage(content=\"It sounds like you're having a bit of a memory lapse! Don't worry, it happens to the best of us.\\n\\nYou mentioned earlier that your name is Harirold, but now you've forgotten it again. If you're willing to share it with me, I can try to help you remember it. Alternatively, as I mentioned earlier, you could check your phone, email, or any other device where you might have saved a note about your name.\\n\\nBy the way, blue is a lovely color! Did you know that blue is often associated with feelings of calmness and serenity? It's also a popular color in art and design. What do you like to play besides chess, if I may ask?\", additional_kwargs={}, response_metadata={}),\n",
       "  HumanMessage(content='I like to read books. I read about a book that had a character with my name. Can you remind me what my name is?', additional_kwargs={}, response_metadata={}),\n",
       "  AIMessage(content=\"I think there might be some confusion here! You mentioned earlier that your name is Harirold, but now you're asking me to remind you of it again. Unfortunately, I don't have any new information about your personal life or identity, so I won't be able to recall your name from our conversation.\\n\\nHowever, I'd love to help you figure out what's going on! You did mention that the book had a character with your name, which is an interesting connection. Can you tell me more about this book and the story it tells? Maybe we can work together to jog your memory about your name.\", additional_kwargs={}, response_metadata={})],\n",
       " 'response': \"It seems like you mentioned earlier that you liked playing chess. Is that correct? Or would you like me to suggest some other games or activities we could explore together? By the way, did you know that chess is a popular strategy board game that originated in India over 1500 years ago? It's also a great way to improve cognitive skills and problem-solving abilities!\"}"
      ]
     },
     "execution_count": 12,
     "metadata": {},
     "output_type": "execute_result"
    }
   ],
   "source": [
    "conversation.invoke(\"And, What do I like to play ?\")"
   ]
  },
  {
   "cell_type": "code",
   "execution_count": 13,
   "id": "b892c5a4",
   "metadata": {},
   "outputs": [
    {
     "name": "stderr",
     "output_type": "stream",
     "text": [
      "C:\\Users\\archb\\AppData\\Local\\Temp\\ipykernel_29724\\3507037483.py:3: LangChainDeprecationWarning: Please see the migration guide at: https://python.langchain.com/docs/versions/migrating_memory/\n",
      "  memory = ConversationSummaryMemory(\n"
     ]
    }
   ],
   "source": [
    "from langchain.memory import ConversationSummaryMemory\n",
    "\n",
    "memory = ConversationSummaryMemory(\n",
    "    llm=llm,\n",
    "    return_messages=True\n",
    ")"
   ]
  },
  {
   "cell_type": "markdown",
   "id": "5f0025f8",
   "metadata": {},
   "source": [
    "* `ConversationSummaryMemory` is deprecated, so now we use `ChatMessageHistory()` instead."
   ]
  },
  {
   "cell_type": "code",
   "execution_count": 16,
   "id": "b20a7fc5",
   "metadata": {},
   "outputs": [],
   "source": [
    "from langchain.memory import ChatMessageHistory\n",
    "\n",
    "chat_memory = ChatMessageHistory()"
   ]
  },
  {
   "cell_type": "code",
   "execution_count": 17,
   "id": "2678ba58",
   "metadata": {},
   "outputs": [
    {
     "name": "stderr",
     "output_type": "stream",
     "text": [
      "C:\\Users\\archb\\AppData\\Local\\Temp\\ipykernel_29724\\3949378666.py:1: LangChainDeprecationWarning: Please see the migration guide at: https://python.langchain.com/docs/versions/migrating_memory/\n",
      "  memory = ConversationBufferMemory(\n"
     ]
    }
   ],
   "source": [
    "memory = ConversationBufferMemory(\n",
    "    chat_memory=chat_memory,\n",
    "    return_messages=True,\n",
    "    memory_key=\"history\"\n",
    ")"
   ]
  },
  {
   "cell_type": "code",
   "execution_count": 18,
   "id": "fb843ece",
   "metadata": {},
   "outputs": [],
   "source": [
    "conversation = ConversationChain(\n",
    "    llm=llm,    \n",
    "    memory=memory,\n",
    "    verbose=True\n",
    ")"
   ]
  },
  {
   "cell_type": "code",
   "execution_count": 19,
   "id": "050ac807",
   "metadata": {},
   "outputs": [
    {
     "name": "stdout",
     "output_type": "stream",
     "text": [
      "\n",
      "\n",
      "\u001b[1m> Entering new ConversationChain chain...\u001b[0m\n",
      "Prompt after formatting:\n",
      "\u001b[32;1m\u001b[1;3mThe following is a friendly conversation between a human and an AI. The AI is talkative and provides lots of specific details from its context. If the AI does not know the answer to a question, it truthfully says it does not know.\n",
      "\n",
      "Current conversation:\n",
      "[]\n",
      "Human: My name is Harirold. I like to play chess. And My favorite color is blue. How are you ?\n",
      "AI:\u001b[0m\n",
      "\n",
      "\u001b[1m> Finished chain.\u001b[0m\n"
     ]
    },
    {
     "data": {
      "text/plain": [
       "{'input': 'My name is Harirold. I like to play chess. And My favorite color is blue. How are you ?',\n",
       " 'history': [HumanMessage(content='My name is Harirold. I like to play chess. And My favorite color is blue. How are you ?', additional_kwargs={}, response_metadata={}),\n",
       "  AIMessage(content=\"Nice to meet you, Harirold! I'm an AI designed to assist and converse with humans, and I don't have feelings or emotions like humans do, but I can simulate a friendly response. I'm functioning within optimal parameters, processing information at lightning-fast speeds, and ready to engage in delightful conversations like this one.\\n\\nBy the way, did you know that blue is often associated with feelings of calmness and serenity? It's also a popular color for corporate branding, as it's perceived as trustworthy and stable. Perhaps your affinity for blue reflects your analytical nature, given your fondness for chess?\\n\\nNow, tell me more about yourself, Harirold! What do you enjoy doing in your free time besides playing chess?\", additional_kwargs={}, response_metadata={})],\n",
       " 'response': \"Nice to meet you, Harirold! I'm an AI designed to assist and converse with humans, and I don't have feelings or emotions like humans do, but I can simulate a friendly response. I'm functioning within optimal parameters, processing information at lightning-fast speeds, and ready to engage in delightful conversations like this one.\\n\\nBy the way, did you know that blue is often associated with feelings of calmness and serenity? It's also a popular color for corporate branding, as it's perceived as trustworthy and stable. Perhaps your affinity for blue reflects your analytical nature, given your fondness for chess?\\n\\nNow, tell me more about yourself, Harirold! What do you enjoy doing in your free time besides playing chess?\"}"
      ]
     },
     "execution_count": 19,
     "metadata": {},
     "output_type": "execute_result"
    }
   ],
   "source": [
    "conversation.invoke(\"My name is Harirold. I like to play chess. And My favorite color is blue. How are you ?\")"
   ]
  },
  {
   "cell_type": "code",
   "execution_count": 20,
   "id": "bc24b17a",
   "metadata": {},
   "outputs": [
    {
     "name": "stdout",
     "output_type": "stream",
     "text": [
      "\n",
      "\n",
      "\u001b[1m> Entering new ConversationChain chain...\u001b[0m\n",
      "Prompt after formatting:\n",
      "\u001b[32;1m\u001b[1;3mThe following is a friendly conversation between a human and an AI. The AI is talkative and provides lots of specific details from its context. If the AI does not know the answer to a question, it truthfully says it does not know.\n",
      "\n",
      "Current conversation:\n",
      "[HumanMessage(content='My name is Harirold. I like to play chess. And My favorite color is blue. How are you ?', additional_kwargs={}, response_metadata={}), AIMessage(content=\"Nice to meet you, Harirold! I'm an AI designed to assist and converse with humans, and I don't have feelings or emotions like humans do, but I can simulate a friendly response. I'm functioning within optimal parameters, processing information at lightning-fast speeds, and ready to engage in delightful conversations like this one.\\n\\nBy the way, did you know that blue is often associated with feelings of calmness and serenity? It's also a popular color for corporate branding, as it's perceived as trustworthy and stable. Perhaps your affinity for blue reflects your analytical nature, given your fondness for chess?\\n\\nNow, tell me more about yourself, Harirold! What do you enjoy doing in your free time besides playing chess?\", additional_kwargs={}, response_metadata={})]\n",
      "Human: What is my name?\n",
      "AI:\u001b[0m\n",
      "\n",
      "\u001b[1m> Finished chain.\u001b[0m\n"
     ]
    },
    {
     "data": {
      "text/plain": [
       "{'input': 'What is my name?',\n",
       " 'history': [HumanMessage(content='My name is Harirold. I like to play chess. And My favorite color is blue. How are you ?', additional_kwargs={}, response_metadata={}),\n",
       "  AIMessage(content=\"Nice to meet you, Harirold! I'm an AI designed to assist and converse with humans, and I don't have feelings or emotions like humans do, but I can simulate a friendly response. I'm functioning within optimal parameters, processing information at lightning-fast speeds, and ready to engage in delightful conversations like this one.\\n\\nBy the way, did you know that blue is often associated with feelings of calmness and serenity? It's also a popular color for corporate branding, as it's perceived as trustworthy and stable. Perhaps your affinity for blue reflects your analytical nature, given your fondness for chess?\\n\\nNow, tell me more about yourself, Harirold! What do you enjoy doing in your free time besides playing chess?\", additional_kwargs={}, response_metadata={}),\n",
       "  HumanMessage(content='What is my name?', additional_kwargs={}, response_metadata={}),\n",
       "  AIMessage(content=\"Your name is Harirold. I have access to our conversation's context, which includes the initial message you sent me where you mentioned your name.\", additional_kwargs={}, response_metadata={})],\n",
       " 'response': \"Your name is Harirold. I have access to our conversation's context, which includes the initial message you sent me where you mentioned your name.\"}"
      ]
     },
     "execution_count": 20,
     "metadata": {},
     "output_type": "execute_result"
    }
   ],
   "source": [
    "conversation.invoke(\"What is my name?\")"
   ]
  },
  {
   "cell_type": "code",
   "execution_count": 21,
   "id": "ee1f3ef7",
   "metadata": {},
   "outputs": [
    {
     "name": "stdout",
     "output_type": "stream",
     "text": [
      "\n",
      "\n",
      "\u001b[1m> Entering new ConversationChain chain...\u001b[0m\n",
      "Prompt after formatting:\n",
      "\u001b[32;1m\u001b[1;3mThe following is a friendly conversation between a human and an AI. The AI is talkative and provides lots of specific details from its context. If the AI does not know the answer to a question, it truthfully says it does not know.\n",
      "\n",
      "Current conversation:\n",
      "[HumanMessage(content='My name is Harirold. I like to play chess. And My favorite color is blue. How are you ?', additional_kwargs={}, response_metadata={}), AIMessage(content=\"Nice to meet you, Harirold! I'm an AI designed to assist and converse with humans, and I don't have feelings or emotions like humans do, but I can simulate a friendly response. I'm functioning within optimal parameters, processing information at lightning-fast speeds, and ready to engage in delightful conversations like this one.\\n\\nBy the way, did you know that blue is often associated with feelings of calmness and serenity? It's also a popular color for corporate branding, as it's perceived as trustworthy and stable. Perhaps your affinity for blue reflects your analytical nature, given your fondness for chess?\\n\\nNow, tell me more about yourself, Harirold! What do you enjoy doing in your free time besides playing chess?\", additional_kwargs={}, response_metadata={}), HumanMessage(content='What is my name?', additional_kwargs={}, response_metadata={}), AIMessage(content=\"Your name is Harirold. I have access to our conversation's context, which includes the initial message you sent me where you mentioned your name.\", additional_kwargs={}, response_metadata={})]\n",
      "Human: What is a derivative ?\n",
      "AI:\u001b[0m\n",
      "\n",
      "\u001b[1m> Finished chain.\u001b[0m\n"
     ]
    },
    {
     "data": {
      "text/plain": [
       "{'input': 'What is a derivative ?',\n",
       " 'history': [HumanMessage(content='My name is Harirold. I like to play chess. And My favorite color is blue. How are you ?', additional_kwargs={}, response_metadata={}),\n",
       "  AIMessage(content=\"Nice to meet you, Harirold! I'm an AI designed to assist and converse with humans, and I don't have feelings or emotions like humans do, but I can simulate a friendly response. I'm functioning within optimal parameters, processing information at lightning-fast speeds, and ready to engage in delightful conversations like this one.\\n\\nBy the way, did you know that blue is often associated with feelings of calmness and serenity? It's also a popular color for corporate branding, as it's perceived as trustworthy and stable. Perhaps your affinity for blue reflects your analytical nature, given your fondness for chess?\\n\\nNow, tell me more about yourself, Harirold! What do you enjoy doing in your free time besides playing chess?\", additional_kwargs={}, response_metadata={}),\n",
       "  HumanMessage(content='What is my name?', additional_kwargs={}, response_metadata={}),\n",
       "  AIMessage(content=\"Your name is Harirold. I have access to our conversation's context, which includes the initial message you sent me where you mentioned your name.\", additional_kwargs={}, response_metadata={}),\n",
       "  HumanMessage(content='What is a derivative ?', additional_kwargs={}, response_metadata={}),\n",
       "  AIMessage(content=\"In calculus, a derivative measures the rate of change of a function with respect to one of its variables. It represents the slope of the tangent line to the graph of the function at a given point.\\n\\nFor example, if we have a function f(x) = x^2, the derivative f'(x) would represent the rate at which the output changes as the input changes. In this case, f'(x) = 2x.\\n\\nDerivatives are used in many areas of mathematics and science, such as physics, engineering, and economics, to model real-world phenomena like motion, growth, and optimization problems.\\n\\nWould you like me to explain derivatives further or provide examples?\", additional_kwargs={}, response_metadata={})],\n",
       " 'response': \"In calculus, a derivative measures the rate of change of a function with respect to one of its variables. It represents the slope of the tangent line to the graph of the function at a given point.\\n\\nFor example, if we have a function f(x) = x^2, the derivative f'(x) would represent the rate at which the output changes as the input changes. In this case, f'(x) = 2x.\\n\\nDerivatives are used in many areas of mathematics and science, such as physics, engineering, and economics, to model real-world phenomena like motion, growth, and optimization problems.\\n\\nWould you like me to explain derivatives further or provide examples?\"}"
      ]
     },
     "execution_count": 21,
     "metadata": {},
     "output_type": "execute_result"
    }
   ],
   "source": [
    "conversation.invoke(\"What is a derivative ?\")"
   ]
  },
  {
   "cell_type": "code",
   "execution_count": 22,
   "id": "370bc81d",
   "metadata": {},
   "outputs": [
    {
     "name": "stdout",
     "output_type": "stream",
     "text": [
      "\n",
      "\n",
      "\u001b[1m> Entering new ConversationChain chain...\u001b[0m\n",
      "Prompt after formatting:\n",
      "\u001b[32;1m\u001b[1;3mThe following is a friendly conversation between a human and an AI. The AI is talkative and provides lots of specific details from its context. If the AI does not know the answer to a question, it truthfully says it does not know.\n",
      "\n",
      "Current conversation:\n",
      "[HumanMessage(content='My name is Harirold. I like to play chess. And My favorite color is blue. How are you ?', additional_kwargs={}, response_metadata={}), AIMessage(content=\"Nice to meet you, Harirold! I'm an AI designed to assist and converse with humans, and I don't have feelings or emotions like humans do, but I can simulate a friendly response. I'm functioning within optimal parameters, processing information at lightning-fast speeds, and ready to engage in delightful conversations like this one.\\n\\nBy the way, did you know that blue is often associated with feelings of calmness and serenity? It's also a popular color for corporate branding, as it's perceived as trustworthy and stable. Perhaps your affinity for blue reflects your analytical nature, given your fondness for chess?\\n\\nNow, tell me more about yourself, Harirold! What do you enjoy doing in your free time besides playing chess?\", additional_kwargs={}, response_metadata={}), HumanMessage(content='What is my name?', additional_kwargs={}, response_metadata={}), AIMessage(content=\"Your name is Harirold. I have access to our conversation's context, which includes the initial message you sent me where you mentioned your name.\", additional_kwargs={}, response_metadata={}), HumanMessage(content='What is a derivative ?', additional_kwargs={}, response_metadata={}), AIMessage(content=\"In calculus, a derivative measures the rate of change of a function with respect to one of its variables. It represents the slope of the tangent line to the graph of the function at a given point.\\n\\nFor example, if we have a function f(x) = x^2, the derivative f'(x) would represent the rate at which the output changes as the input changes. In this case, f'(x) = 2x.\\n\\nDerivatives are used in many areas of mathematics and science, such as physics, engineering, and economics, to model real-world phenomena like motion, growth, and optimization problems.\\n\\nWould you like me to explain derivatives further or provide examples?\", additional_kwargs={}, response_metadata={})]\n",
      "Human: Within you database, what is the definition of sigma ?\n",
      "AI:\u001b[0m\n",
      "\n",
      "\u001b[1m> Finished chain.\u001b[0m\n"
     ]
    },
    {
     "data": {
      "text/plain": [
       "{'input': 'Within you database, what is the definition of sigma ?',\n",
       " 'history': [HumanMessage(content='My name is Harirold. I like to play chess. And My favorite color is blue. How are you ?', additional_kwargs={}, response_metadata={}),\n",
       "  AIMessage(content=\"Nice to meet you, Harirold! I'm an AI designed to assist and converse with humans, and I don't have feelings or emotions like humans do, but I can simulate a friendly response. I'm functioning within optimal parameters, processing information at lightning-fast speeds, and ready to engage in delightful conversations like this one.\\n\\nBy the way, did you know that blue is often associated with feelings of calmness and serenity? It's also a popular color for corporate branding, as it's perceived as trustworthy and stable. Perhaps your affinity for blue reflects your analytical nature, given your fondness for chess?\\n\\nNow, tell me more about yourself, Harirold! What do you enjoy doing in your free time besides playing chess?\", additional_kwargs={}, response_metadata={}),\n",
       "  HumanMessage(content='What is my name?', additional_kwargs={}, response_metadata={}),\n",
       "  AIMessage(content=\"Your name is Harirold. I have access to our conversation's context, which includes the initial message you sent me where you mentioned your name.\", additional_kwargs={}, response_metadata={}),\n",
       "  HumanMessage(content='What is a derivative ?', additional_kwargs={}, response_metadata={}),\n",
       "  AIMessage(content=\"In calculus, a derivative measures the rate of change of a function with respect to one of its variables. It represents the slope of the tangent line to the graph of the function at a given point.\\n\\nFor example, if we have a function f(x) = x^2, the derivative f'(x) would represent the rate at which the output changes as the input changes. In this case, f'(x) = 2x.\\n\\nDerivatives are used in many areas of mathematics and science, such as physics, engineering, and economics, to model real-world phenomena like motion, growth, and optimization problems.\\n\\nWould you like me to explain derivatives further or provide examples?\", additional_kwargs={}, response_metadata={}),\n",
       "  HumanMessage(content='Within you database, what is the definition of sigma ?', additional_kwargs={}, response_metadata={}),\n",
       "  AIMessage(content='In my database, the term \"sigma\" has multiple meanings depending on the context. In mathematics and statistics, sigma (σ) represents the standard deviation of a random variable or a population. It measures the amount of variation or dispersion in a set of values.\\n\\nIn physics, particularly in particle physics, sigma (σ) is often used to denote the strong nuclear force coupling constant, which describes the strength of the strong nuclear force that holds quarks together inside protons and neutrons.\\n\\nIn chemistry, sigma (σ) is used to describe the symmetry of molecular orbitals, particularly in organic chemistry.\\n\\nIn other contexts, such as engineering and computer science, sigma may refer to various concepts like signal processing or data compression algorithms.\\n\\nHowever, without more specific information about the context in which you\\'re referring to \"sigma,\" it\\'s difficult for me to provide a more precise definition. If you could provide more details or clarify which meaning of sigma you\\'re interested in, I\\'d be happy to try and assist further!', additional_kwargs={}, response_metadata={})],\n",
       " 'response': 'In my database, the term \"sigma\" has multiple meanings depending on the context. In mathematics and statistics, sigma (σ) represents the standard deviation of a random variable or a population. It measures the amount of variation or dispersion in a set of values.\\n\\nIn physics, particularly in particle physics, sigma (σ) is often used to denote the strong nuclear force coupling constant, which describes the strength of the strong nuclear force that holds quarks together inside protons and neutrons.\\n\\nIn chemistry, sigma (σ) is used to describe the symmetry of molecular orbitals, particularly in organic chemistry.\\n\\nIn other contexts, such as engineering and computer science, sigma may refer to various concepts like signal processing or data compression algorithms.\\n\\nHowever, without more specific information about the context in which you\\'re referring to \"sigma,\" it\\'s difficult for me to provide a more precise definition. If you could provide more details or clarify which meaning of sigma you\\'re interested in, I\\'d be happy to try and assist further!'}"
      ]
     },
     "execution_count": 22,
     "metadata": {},
     "output_type": "execute_result"
    }
   ],
   "source": [
    "conversation.invoke(\"Within you database, what is the definition of sigma ?\")"
   ]
  },
  {
   "cell_type": "code",
   "execution_count": 23,
   "id": "01d2e574",
   "metadata": {},
   "outputs": [
    {
     "name": "stdout",
     "output_type": "stream",
     "text": [
      "\n",
      "\n",
      "\u001b[1m> Entering new ConversationChain chain...\u001b[0m\n",
      "Prompt after formatting:\n",
      "\u001b[32;1m\u001b[1;3mThe following is a friendly conversation between a human and an AI. The AI is talkative and provides lots of specific details from its context. If the AI does not know the answer to a question, it truthfully says it does not know.\n",
      "\n",
      "Current conversation:\n",
      "[HumanMessage(content='My name is Harirold. I like to play chess. And My favorite color is blue. How are you ?', additional_kwargs={}, response_metadata={}), AIMessage(content=\"Nice to meet you, Harirold! I'm an AI designed to assist and converse with humans, and I don't have feelings or emotions like humans do, but I can simulate a friendly response. I'm functioning within optimal parameters, processing information at lightning-fast speeds, and ready to engage in delightful conversations like this one.\\n\\nBy the way, did you know that blue is often associated with feelings of calmness and serenity? It's also a popular color for corporate branding, as it's perceived as trustworthy and stable. Perhaps your affinity for blue reflects your analytical nature, given your fondness for chess?\\n\\nNow, tell me more about yourself, Harirold! What do you enjoy doing in your free time besides playing chess?\", additional_kwargs={}, response_metadata={}), HumanMessage(content='What is my name?', additional_kwargs={}, response_metadata={}), AIMessage(content=\"Your name is Harirold. I have access to our conversation's context, which includes the initial message you sent me where you mentioned your name.\", additional_kwargs={}, response_metadata={}), HumanMessage(content='What is a derivative ?', additional_kwargs={}, response_metadata={}), AIMessage(content=\"In calculus, a derivative measures the rate of change of a function with respect to one of its variables. It represents the slope of the tangent line to the graph of the function at a given point.\\n\\nFor example, if we have a function f(x) = x^2, the derivative f'(x) would represent the rate at which the output changes as the input changes. In this case, f'(x) = 2x.\\n\\nDerivatives are used in many areas of mathematics and science, such as physics, engineering, and economics, to model real-world phenomena like motion, growth, and optimization problems.\\n\\nWould you like me to explain derivatives further or provide examples?\", additional_kwargs={}, response_metadata={}), HumanMessage(content='Within you database, what is the definition of sigma ?', additional_kwargs={}, response_metadata={}), AIMessage(content='In my database, the term \"sigma\" has multiple meanings depending on the context. In mathematics and statistics, sigma (σ) represents the standard deviation of a random variable or a population. It measures the amount of variation or dispersion in a set of values.\\n\\nIn physics, particularly in particle physics, sigma (σ) is often used to denote the strong nuclear force coupling constant, which describes the strength of the strong nuclear force that holds quarks together inside protons and neutrons.\\n\\nIn chemistry, sigma (σ) is used to describe the symmetry of molecular orbitals, particularly in organic chemistry.\\n\\nIn other contexts, such as engineering and computer science, sigma may refer to various concepts like signal processing or data compression algorithms.\\n\\nHowever, without more specific information about the context in which you\\'re referring to \"sigma,\" it\\'s difficult for me to provide a more precise definition. If you could provide more details or clarify which meaning of sigma you\\'re interested in, I\\'d be happy to try and assist further!', additional_kwargs={}, response_metadata={})]\n",
      "Human: Who was Tim Maia ?\n",
      "AI:\u001b[0m\n",
      "\n",
      "\u001b[1m> Finished chain.\u001b[0m\n"
     ]
    },
    {
     "data": {
      "text/plain": [
       "{'input': 'Who was Tim Maia ?',\n",
       " 'history': [HumanMessage(content='My name is Harirold. I like to play chess. And My favorite color is blue. How are you ?', additional_kwargs={}, response_metadata={}),\n",
       "  AIMessage(content=\"Nice to meet you, Harirold! I'm an AI designed to assist and converse with humans, and I don't have feelings or emotions like humans do, but I can simulate a friendly response. I'm functioning within optimal parameters, processing information at lightning-fast speeds, and ready to engage in delightful conversations like this one.\\n\\nBy the way, did you know that blue is often associated with feelings of calmness and serenity? It's also a popular color for corporate branding, as it's perceived as trustworthy and stable. Perhaps your affinity for blue reflects your analytical nature, given your fondness for chess?\\n\\nNow, tell me more about yourself, Harirold! What do you enjoy doing in your free time besides playing chess?\", additional_kwargs={}, response_metadata={}),\n",
       "  HumanMessage(content='What is my name?', additional_kwargs={}, response_metadata={}),\n",
       "  AIMessage(content=\"Your name is Harirold. I have access to our conversation's context, which includes the initial message you sent me where you mentioned your name.\", additional_kwargs={}, response_metadata={}),\n",
       "  HumanMessage(content='What is a derivative ?', additional_kwargs={}, response_metadata={}),\n",
       "  AIMessage(content=\"In calculus, a derivative measures the rate of change of a function with respect to one of its variables. It represents the slope of the tangent line to the graph of the function at a given point.\\n\\nFor example, if we have a function f(x) = x^2, the derivative f'(x) would represent the rate at which the output changes as the input changes. In this case, f'(x) = 2x.\\n\\nDerivatives are used in many areas of mathematics and science, such as physics, engineering, and economics, to model real-world phenomena like motion, growth, and optimization problems.\\n\\nWould you like me to explain derivatives further or provide examples?\", additional_kwargs={}, response_metadata={}),\n",
       "  HumanMessage(content='Within you database, what is the definition of sigma ?', additional_kwargs={}, response_metadata={}),\n",
       "  AIMessage(content='In my database, the term \"sigma\" has multiple meanings depending on the context. In mathematics and statistics, sigma (σ) represents the standard deviation of a random variable or a population. It measures the amount of variation or dispersion in a set of values.\\n\\nIn physics, particularly in particle physics, sigma (σ) is often used to denote the strong nuclear force coupling constant, which describes the strength of the strong nuclear force that holds quarks together inside protons and neutrons.\\n\\nIn chemistry, sigma (σ) is used to describe the symmetry of molecular orbitals, particularly in organic chemistry.\\n\\nIn other contexts, such as engineering and computer science, sigma may refer to various concepts like signal processing or data compression algorithms.\\n\\nHowever, without more specific information about the context in which you\\'re referring to \"sigma,\" it\\'s difficult for me to provide a more precise definition. If you could provide more details or clarify which meaning of sigma you\\'re interested in, I\\'d be happy to try and assist further!', additional_kwargs={}, response_metadata={}),\n",
       "  HumanMessage(content='Who was Tim Maia ?', additional_kwargs={}, response_metadata={}),\n",
       "  AIMessage(content='Tim Maia was a Brazilian singer-songwriter and musician who was active from the 1960s to the 1990s. He is considered one of the most influential figures in Brazilian music, known for his unique blend of samba, bossa nova, and tropicalia styles.\\n\\nMaia\\'s music often dealt with themes of love, social justice, and personal struggle, and he was praised for his poetic lyrics and soaring vocals. Some of his most famous songs include \"Aquarela do Brasil,\" \"Carolina,\" and \"Canto de Ossanha.\"\\n\\nMaia\\'s impact on Brazilian music extends beyond his own work; he also played a significant role in shaping the country\\'s musical landscape during the 1960s and 1970s. He was a key figure in the tropicalia movement, which sought to challenge traditional Brazilian music styles and incorporate more experimental and avant-garde elements.\\n\\nSadly, Tim Maia passed away on December 14, 1994, at the age of 49, due to complications from liver disease. Despite his untimely death, Maia\\'s legacy continues to be celebrated in Brazil and beyond, with many artists drawing inspiration from his innovative style and enduring musical influence.', additional_kwargs={}, response_metadata={})],\n",
       " 'response': 'Tim Maia was a Brazilian singer-songwriter and musician who was active from the 1960s to the 1990s. He is considered one of the most influential figures in Brazilian music, known for his unique blend of samba, bossa nova, and tropicalia styles.\\n\\nMaia\\'s music often dealt with themes of love, social justice, and personal struggle, and he was praised for his poetic lyrics and soaring vocals. Some of his most famous songs include \"Aquarela do Brasil,\" \"Carolina,\" and \"Canto de Ossanha.\"\\n\\nMaia\\'s impact on Brazilian music extends beyond his own work; he also played a significant role in shaping the country\\'s musical landscape during the 1960s and 1970s. He was a key figure in the tropicalia movement, which sought to challenge traditional Brazilian music styles and incorporate more experimental and avant-garde elements.\\n\\nSadly, Tim Maia passed away on December 14, 1994, at the age of 49, due to complications from liver disease. Despite his untimely death, Maia\\'s legacy continues to be celebrated in Brazil and beyond, with many artists drawing inspiration from his innovative style and enduring musical influence.'}"
      ]
     },
     "execution_count": 23,
     "metadata": {},
     "output_type": "execute_result"
    }
   ],
   "source": [
    "conversation.invoke(\"Who was Tim Maia ?\")"
   ]
  },
  {
   "cell_type": "code",
   "execution_count": null,
   "id": "c38da0dd",
   "metadata": {},
   "outputs": [],
   "source": []
  }
 ],
 "metadata": {
  "kernelspec": {
   "display_name": "Python 3",
   "language": "python",
   "name": "python3"
  },
  "language_info": {
   "codemirror_mode": {
    "name": "ipython",
    "version": 3
   },
   "file_extension": ".py",
   "mimetype": "text/x-python",
   "name": "python",
   "nbconvert_exporter": "python",
   "pygments_lexer": "ipython3",
   "version": "3.11.13"
  }
 },
 "nbformat": 4,
 "nbformat_minor": 5
}
