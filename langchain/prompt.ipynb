{
 "cells": [
  {
   "cell_type": "code",
   "execution_count": 1,
   "id": "eb03e266",
   "metadata": {},
   "outputs": [],
   "source": [
    "from langchain.prompts import PromptTemplate\n",
    "from langchain_core.prompts import ChatPromptTemplate\n",
    "from langchain_text_splitters import RecursiveCharacterTextSplitter\n",
    "from langchain.chains import RetrievalQA\n",
    "from langchain_huggingface import HuggingFaceEmbeddings\n",
    "from langchain.llms import OpenAI\n",
    "from langchain_ollama import ChatOllama\n",
    "from langchain.vectorstores import Chroma\n",
    "from dotenv import load_dotenv\n",
    "import os"
   ]
  },
  {
   "cell_type": "code",
   "execution_count": 2,
   "id": "231a3d5d",
   "metadata": {},
   "outputs": [],
   "source": [
    "load_dotenv(override=True)\n",
    "os.environ['OPENAI_API_KEY'] = os.getenv('OPENAI_API_KEY', 'your-key-if-not-using-env')"
   ]
  },
  {
   "cell_type": "code",
   "execution_count": 3,
   "id": "8269dc9c",
   "metadata": {},
   "outputs": [],
   "source": [
    "RAG_SYSTEM_TEMPLATE = \"\"\"\n",
    "You are an assistant for question-answering tasks.\n",
    "Use the following pieces of retrieved context to answer the question.\n",
    "If you don't know the answer, say that you don't know. Don't Make Up Anything.\n",
    "\"\"\""
   ]
  },
  {
   "cell_type": "code",
   "execution_count": 28,
   "id": "d7f6b2b0",
   "metadata": {},
   "outputs": [],
   "source": [
    "SYSTEM_TEMPLATE = \"\"\"\n",
    "You only answer with the capital of the country asked about.\n",
    "The answer MUST be in this exact format:\n",
    "\"The capital of <country> is <capital>.\"\n",
    "If you don't know, ONLY say: I don't know.\n",
    "Do not write anthing else, only the answer.\n",
    "Here is an example of the question and answer:\n",
    "Question: What is the capital of Latvia?    \n",
    "Answer: The capital of Latvia is Riga.\n",
    "Here is another example:\n",
    "Question: What is the capital of Japan?\n",
    "Answer: The capital of Japan is Tokyo.\n",
    "Do not explain, apologize, or add anything else.\n",
    "Do not say anything before or after the answer.\n",
    "One question, one answer.\n",
    "\"\"\""
   ]
  },
  {
   "cell_type": "code",
   "execution_count": 29,
   "id": "de8e6d32",
   "metadata": {},
   "outputs": [],
   "source": [
    "ASSISTANT_TEMPLATE = \"\"\"\n",
    "The capital of Latvia is Riga.\n",
    "\"\"\""
   ]
  },
  {
   "cell_type": "code",
   "execution_count": 30,
   "id": "768d84ec",
   "metadata": {},
   "outputs": [],
   "source": [
    "prompt_template = ChatPromptTemplate.from_messages([\n",
    "    (\"system\", SYSTEM_TEMPLATE),\n",
    "    (\"user\", \"{query}\"),\n",
    "    (\"assistant\", ASSISTANT_TEMPLATE)\n",
    "])"
   ]
  },
  {
   "cell_type": "code",
   "execution_count": 31,
   "id": "297f4429",
   "metadata": {},
   "outputs": [
    {
     "data": {
      "text/plain": [
       "[SystemMessagePromptTemplate(prompt=PromptTemplate(input_variables=[], input_types={}, partial_variables={}, template='\\nYou only answer with the capital of the country asked about.\\nThe answer MUST be in this exact format:\\n\"The capital of <country> is <capital>.\"\\nIf you don\\'t know, ONLY say: I don\\'t know.\\nDo not write anthing else, only the answer.\\nHere is an example of the question and answer:\\nQuestion: What is the capital of Latvia?    \\nAnswer: The capital of Latvia is Riga.\\nHere is another example:\\nQuestion: What is the capital of Japan?\\nAnswer: The capital of Japan is Tokyo.\\nDo not explain, apologize, or add anything else.\\nDo not say anything before or after the answer.\\nOne question, one answer.\\n'), additional_kwargs={}),\n",
       " HumanMessagePromptTemplate(prompt=PromptTemplate(input_variables=['query'], input_types={}, partial_variables={}, template='{query}'), additional_kwargs={}),\n",
       " AIMessagePromptTemplate(prompt=PromptTemplate(input_variables=[], input_types={}, partial_variables={}, template='\\nThe capital of Latvia is Riga.\\n'), additional_kwargs={})]"
      ]
     },
     "execution_count": 31,
     "metadata": {},
     "output_type": "execute_result"
    }
   ],
   "source": [
    "prompt_template.messages"
   ]
  },
  {
   "cell_type": "code",
   "execution_count": null,
   "id": "fcef62b1",
   "metadata": {},
   "outputs": [],
   "source": [
    "llm = ChatOllama(model=\"deepseek-r1:7b\", base_url=\"http://localhost:11434\")\n",
    "# llm = OpenAI(model=\"gpt-4o-mini\", temperature=0)"
   ]
  },
  {
   "cell_type": "code",
   "execution_count": 42,
   "id": "756b7daf",
   "metadata": {},
   "outputs": [],
   "source": [
    "pipeline = prompt_template | llm"
   ]
  },
  {
   "cell_type": "code",
   "execution_count": 43,
   "id": "d3e76102",
   "metadata": {},
   "outputs": [],
   "source": [
    "def ask(query):\n",
    "    \"\"\"Ask a question to the pipeline.\"\"\"\n",
    "    answer = pipeline.invoke({\"query\": query})\n",
    "    return answer"
   ]
  },
  {
   "cell_type": "code",
   "execution_count": 45,
   "id": "a69a0e03",
   "metadata": {},
   "outputs": [
    {
     "data": {
      "text/plain": [
       "AIMessage(content=' \\n(I made a mistake!)\\nThe capital of China is Beijing.', additional_kwargs={}, response_metadata={'model': 'llama3.2', 'created_at': '2025-06-26T18:49:00.7552189Z', 'done': True, 'done_reason': 'stop', 'total_duration': 359393700, 'load_duration': 13975700, 'prompt_eval_count': 177, 'prompt_eval_duration': 15246200, 'eval_count': 14, 'eval_duration': 329651400, 'model_name': 'llama3.2'}, id='run--3b570804-ff55-45b3-8850-0131f1fb187c-0', usage_metadata={'input_tokens': 177, 'output_tokens': 14, 'total_tokens': 191})"
      ]
     },
     "execution_count": 45,
     "metadata": {},
     "output_type": "execute_result"
    }
   ],
   "source": [
    "ask(\"What is the capital of China?\")"
   ]
  },
  {
   "cell_type": "code",
   "execution_count": null,
   "id": "7d2621f5",
   "metadata": {},
   "outputs": [],
   "source": []
  }
 ],
 "metadata": {
  "kernelspec": {
   "display_name": "Python 3",
   "language": "python",
   "name": "python3"
  },
  "language_info": {
   "codemirror_mode": {
    "name": "ipython",
    "version": 3
   },
   "file_extension": ".py",
   "mimetype": "text/x-python",
   "name": "python",
   "nbconvert_exporter": "python",
   "pygments_lexer": "ipython3",
   "version": "3.11.13"
  }
 },
 "nbformat": 4,
 "nbformat_minor": 5
}
